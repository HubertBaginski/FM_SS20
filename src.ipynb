{
 "cells": [
  {
   "cell_type": "code",
   "execution_count": 14,
   "metadata": {},
   "outputs": [],
   "source": [
    "import pandas as pd\n",
    "import numpy as np\n",
    "from sklearn.model_selection import train_test_split, GridSearchCV\n",
    "from sklearn.linear_model import LogisticRegression\n",
    "from sklearn.svm import LinearSVC\n",
    "import time\n",
    "from sklearn.ensemble import RandomForestClassifier\n",
    "from sklearn.metrics import f1_score, recall_score, precision_score\n",
    "from tqdm import tqdm_notebook"
   ]
  },
  {
   "cell_type": "code",
   "execution_count": 2,
   "metadata": {},
   "outputs": [],
   "source": [
    "# https://archive.ics.uci.edu/ml/datasets/iris\n",
    "path = \"./data/iris.data\"#"
   ]
  },
  {
   "cell_type": "code",
   "execution_count": 3,
   "metadata": {},
   "outputs": [],
   "source": [
    "df = pd.read_csv(path, header=0)\n",
    "dc = {\"Iris-setosa\": 0, \"Iris-versicolor\":1, \"Iris-virginica\":2}\n",
    "df[\"class\"].replace(dc, inplace=True)\n",
    "df = df.sample(frac=1, random_state=42).reset_index(drop=True)\n",
    "features = df.drop(\"class\", axis=1)\n",
    "labels = df[\"class\"]"
   ]
  },
  {
   "cell_type": "code",
   "execution_count": 4,
   "metadata": {},
   "outputs": [],
   "source": [
    "X_train, X_test, y_train, y_test = train_test_split(features, labels, test_size=0.7, random_state=42)"
   ]
  },
  {
   "cell_type": "code",
   "execution_count": 18,
   "metadata": {},
   "outputs": [],
   "source": [
    "def train_CV(X, Y, par, mod):\n",
    "    start = time.time()\n",
    "    model = mod\n",
    "    clf = GridSearchCV(model, par, n_jobs=-1, cv=3, verbose=1)\n",
    "    clf = clf.fit(X, Y)\n",
    "    print(\"best train accuracy: \", clf.best_score_)\n",
    "    print(clf.best_params_)\n",
    "    end = time.time()\n",
    "    elapsed = end - start\n",
    "    print(\"training time: \", elapsed)\n",
    "    return clf\n",
    "\n",
    "def test_scr(model):\n",
    "    start = time.time()\n",
    "    for i in tqdm_notebook(range(5000)):\n",
    "        pred = model.predict(X_test)\n",
    "    f1 = f1_score(pred, y_test, average=\"weighted\")\n",
    "    recall = recall_score(pred, y_test, average=\"weighted\")\n",
    "    prec = precision_score(pred, y_test, average=\"weighted\")\n",
    "    print(\"F1: \", f1, \"; Recall: \", recall, \"; Precision: \", prec, \"; Acc: \", np.mean(pred==y_test) )\n",
    "    end = time.time()\n",
    "    elapsed = end - start\n",
    "    print(\"predicting 5.000 times: \", elapsed)\n",
    "    return pred"
   ]
  },
  {
   "cell_type": "code",
   "execution_count": 19,
   "metadata": {},
   "outputs": [
    {
     "name": "stdout",
     "output_type": "stream",
     "text": [
      "Fitting 3 folds for each of 2376 candidates, totalling 7128 fits\n"
     ]
    },
    {
     "name": "stderr",
     "output_type": "stream",
     "text": [
      "[Parallel(n_jobs=-1)]: Using backend LokyBackend with 8 concurrent workers.\n",
      "[Parallel(n_jobs=-1)]: Done  34 tasks      | elapsed:    3.5s\n",
      "[Parallel(n_jobs=-1)]: Done 184 tasks      | elapsed:    5.5s\n",
      "[Parallel(n_jobs=-1)]: Done 434 tasks      | elapsed:    8.9s\n",
      "[Parallel(n_jobs=-1)]: Done 784 tasks      | elapsed:   13.7s\n",
      "[Parallel(n_jobs=-1)]: Done 1234 tasks      | elapsed:   19.9s\n",
      "[Parallel(n_jobs=-1)]: Done 1784 tasks      | elapsed:   27.2s\n",
      "[Parallel(n_jobs=-1)]: Done 2434 tasks      | elapsed:   36.0s\n",
      "[Parallel(n_jobs=-1)]: Done 3456 tasks      | elapsed:   49.7s\n",
      "[Parallel(n_jobs=-1)]: Done 5156 tasks      | elapsed:  1.2min\n",
      "[Parallel(n_jobs=-1)]: Done 7056 tasks      | elapsed:  1.6min\n",
      "[Parallel(n_jobs=-1)]: Done 7113 out of 7128 | elapsed:  1.6min remaining:    0.1s\n",
      "[Parallel(n_jobs=-1)]: Done 7128 out of 7128 | elapsed:  1.6min finished\n",
      "D:\\Anaconda\\lib\\site-packages\\sklearn\\model_selection\\_search.py:814: DeprecationWarning: The default of the `iid` parameter will change from True to False in version 0.22 and will be removed in 0.24. This will change numeric results when test-set sizes are unequal.\n",
      "  DeprecationWarning)\n"
     ]
    },
    {
     "name": "stdout",
     "output_type": "stream",
     "text": [
      "best train accuracy:  0.9333333333333333\n",
      "{'C': 0.05, 'class_weight': 'balanced', 'multi_class': 'auto', 'solver': 'newton-cg'}\n",
      "training time:  101.83012533187866\n"
     ]
    },
    {
     "name": "stderr",
     "output_type": "stream",
     "text": [
      "D:\\Anaconda\\lib\\site-packages\\ipykernel_launcher.py:15: TqdmDeprecationWarning: This function will be removed in tqdm==5.0.0\n",
      "Please use `tqdm.notebook.tqdm` instead of `tqdm.tqdm_notebook`\n",
      "  from ipykernel import kernelapp as app\n"
     ]
    },
    {
     "data": {
      "application/vnd.jupyter.widget-view+json": {
       "model_id": "f73473b38af4403eaaa50fcad7692948",
       "version_major": 2,
       "version_minor": 0
      },
      "text/plain": [
       "HBox(children=(FloatProgress(value=0.0, max=5000.0), HTML(value='')))"
      ]
     },
     "metadata": {},
     "output_type": "display_data"
    },
    {
     "name": "stdout",
     "output_type": "stream",
     "text": [
      "\n",
      "F1:  0.8679166666666666 ; Recall:  0.8666666666666667 ; Precision:  0.8768155911013055 ; Acc:  0.8666666666666667\n",
      "predicting 5.000 times:  2.36970853805542\n"
     ]
    }
   ],
   "source": [
    "par = {\n",
    "    \"class_weight\" : [None, \"balanced\"],\n",
    "    \"solver\" : [\"newton-cg\", \"sag\", \"saga\", \"lbfgs\"],\n",
    "    \"multi_class\" : [\"auto\", \"ovr\", \"multinomial\"],\n",
    "    \"C\" : np.arange(0.01,1,0.01)\n",
    "}\n",
    "mod = LogisticRegression(n_jobs = -1,random_state=123, max_iter=20000)\n",
    "log_reg = train_CV(X_train, y_train, par, mod)\n",
    "pred_LR = test_scr(log_reg)"
   ]
  },
  {
   "cell_type": "code",
   "execution_count": 20,
   "metadata": {},
   "outputs": [
    {
     "name": "stdout",
     "output_type": "stream",
     "text": [
      "Fitting 3 folds for each of 2394 candidates, totalling 7182 fits\n"
     ]
    },
    {
     "name": "stderr",
     "output_type": "stream",
     "text": [
      "[Parallel(n_jobs=-1)]: Using backend LokyBackend with 8 concurrent workers.\n",
      "[Parallel(n_jobs=-1)]: Done  34 tasks      | elapsed:    4.1s\n",
      "[Parallel(n_jobs=-1)]: Done 184 tasks      | elapsed:    8.2s\n",
      "[Parallel(n_jobs=-1)]: Done 434 tasks      | elapsed:   15.0s\n",
      "[Parallel(n_jobs=-1)]: Done 784 tasks      | elapsed:   24.5s\n",
      "[Parallel(n_jobs=-1)]: Done 1234 tasks      | elapsed:   36.7s\n",
      "[Parallel(n_jobs=-1)]: Done 1784 tasks      | elapsed:   51.6s\n",
      "[Parallel(n_jobs=-1)]: Done 2434 tasks      | elapsed:  1.2min\n",
      "[Parallel(n_jobs=-1)]: Done 3184 tasks      | elapsed:  1.5min\n",
      "[Parallel(n_jobs=-1)]: Done 4034 tasks      | elapsed:  1.9min\n",
      "[Parallel(n_jobs=-1)]: Done 4984 tasks      | elapsed:  2.3min\n",
      "[Parallel(n_jobs=-1)]: Done 6034 tasks      | elapsed:  2.8min\n"
     ]
    },
    {
     "name": "stdout",
     "output_type": "stream",
     "text": [
      "best train accuracy:  0.9333333333333333\n",
      "{'class_weight': 'balanced', 'criterion': 'gini', 'max_features': 'auto', 'min_samples_leaf': 5, 'min_samples_split': 2}\n",
      "training time:  200.7949938774109\n"
     ]
    },
    {
     "name": "stderr",
     "output_type": "stream",
     "text": [
      "[Parallel(n_jobs=-1)]: Done 7182 out of 7182 | elapsed:  3.3min finished\n",
      "D:\\Anaconda\\lib\\site-packages\\sklearn\\model_selection\\_search.py:814: DeprecationWarning: The default of the `iid` parameter will change from True to False in version 0.22 and will be removed in 0.24. This will change numeric results when test-set sizes are unequal.\n",
      "  DeprecationWarning)\n",
      "D:\\Anaconda\\lib\\site-packages\\sklearn\\ensemble\\forest.py:245: FutureWarning: The default value of n_estimators will change from 10 in version 0.20 to 100 in 0.22.\n",
      "  \"10 in version 0.20 to 100 in 0.22.\", FutureWarning)\n"
     ]
    }
   ],
   "source": [
    "par = {\n",
    "    \"class_weight\" : [None, \"balanced\", \"balanced_subsample\"],\n",
    "    \"criterion\" : [\"gini\", \"entropy\"],\n",
    "    \"min_samples_split\" : [2,3,4,5,6,7, 8],\n",
    "    \"min_samples_leaf\" : np.arange(1,20,1),\n",
    "    \"max_features\" : [\"auto\", \"sqrt\", \"log2\"]\n",
    "}\n",
    "mod = RandomForestClassifier(n_jobs = -1,random_state=123)\n",
    "RF = train_CV(X_train, y_train, par, mod)"
   ]
  },
  {
   "cell_type": "code",
   "execution_count": 21,
   "metadata": {},
   "outputs": [
    {
     "name": "stderr",
     "output_type": "stream",
     "text": [
      "D:\\Anaconda\\lib\\site-packages\\ipykernel_launcher.py:15: TqdmDeprecationWarning: This function will be removed in tqdm==5.0.0\n",
      "Please use `tqdm.notebook.tqdm` instead of `tqdm.tqdm_notebook`\n",
      "  from ipykernel import kernelapp as app\n"
     ]
    },
    {
     "data": {
      "application/vnd.jupyter.widget-view+json": {
       "model_id": "4bca4ce30c2d475abc1614612761b3b8",
       "version_major": 2,
       "version_minor": 0
      },
      "text/plain": [
       "HBox(children=(FloatProgress(value=0.0, max=5000.0), HTML(value='')))"
      ]
     },
     "metadata": {},
     "output_type": "display_data"
    },
    {
     "name": "stdout",
     "output_type": "stream",
     "text": [
      "\n",
      "F1:  0.9428571428571428 ; Recall:  0.9428571428571428 ; Precision:  0.9438279095421952 ; Acc:  0.9428571428571428\n",
      "predicting 5.000 times:  534.1122047901154\n"
     ]
    }
   ],
   "source": [
    "pred_RF = test_scr(RF)"
   ]
  },
  {
   "cell_type": "code",
   "execution_count": 22,
   "metadata": {},
   "outputs": [
    {
     "name": "stdout",
     "output_type": "stream",
     "text": [
      "Fitting 3 folds for each of 2400 candidates, totalling 7200 fits\n"
     ]
    },
    {
     "name": "stderr",
     "output_type": "stream",
     "text": [
      "[Parallel(n_jobs=-1)]: Using backend LokyBackend with 8 concurrent workers.\n",
      "[Parallel(n_jobs=-1)]: Done  34 tasks      | elapsed:    3.4s\n",
      "[Parallel(n_jobs=-1)]: Done 2584 tasks      | elapsed:    6.8s\n"
     ]
    },
    {
     "name": "stdout",
     "output_type": "stream",
     "text": [
      "best train accuracy:  0.9555555555555556\n",
      "{'C': 0.9010000000000007, 'class_weight': 'balanced', 'loss': 'hinge', 'multi_class': 'crammer_singer', 'penalty': 'l2'}\n",
      "training time:  15.149875402450562\n"
     ]
    },
    {
     "name": "stderr",
     "output_type": "stream",
     "text": [
      "[Parallel(n_jobs=-1)]: Done 7200 out of 7200 | elapsed:   15.0s finished\n",
      "D:\\Anaconda\\lib\\site-packages\\sklearn\\model_selection\\_search.py:814: DeprecationWarning: The default of the `iid` parameter will change from True to False in version 0.22 and will be removed in 0.24. This will change numeric results when test-set sizes are unequal.\n",
      "  DeprecationWarning)\n",
      "D:\\Anaconda\\lib\\site-packages\\ipykernel_launcher.py:15: TqdmDeprecationWarning: This function will be removed in tqdm==5.0.0\n",
      "Please use `tqdm.notebook.tqdm` instead of `tqdm.tqdm_notebook`\n",
      "  from ipykernel import kernelapp as app\n"
     ]
    },
    {
     "data": {
      "application/vnd.jupyter.widget-view+json": {
       "model_id": "4c7a6c427af34554b493439d988ca115",
       "version_major": 2,
       "version_minor": 0
      },
      "text/plain": [
       "HBox(children=(FloatProgress(value=0.0, max=5000.0), HTML(value='')))"
      ]
     },
     "metadata": {},
     "output_type": "display_data"
    },
    {
     "name": "stdout",
     "output_type": "stream",
     "text": [
      "\n",
      "F1:  0.9809818664307829 ; Recall:  0.9809523809523809 ; Precision:  0.9820408163265306 ; Acc:  0.9809523809523809\n",
      "predicting 5.000 times:  2.5108327865600586\n"
     ]
    }
   ],
   "source": [
    "par = {\n",
    "    \"class_weight\" : [None, \"balanced\"],\n",
    "    \"penalty\" : [\"l2\"],\n",
    "    \"loss\" : [\"hinge\", \"squared_hinge\"],\n",
    "    \"C\" : np.arange(0.1, 1, 0.003),\n",
    "    \"multi_class\" : [\"ovr\", \"crammer_singer\"],\n",
    "    \"class_weight\" : [\"balanced\", None]\n",
    "}\n",
    "mod = LinearSVC(random_state=123, max_iter=80000000)\n",
    "SVM = train_CV(X_train, y_train, par, mod)\n",
    "pred_SVM = test_scr(SVM)"
   ]
  },
  {
   "cell_type": "code",
   "execution_count": null,
   "metadata": {},
   "outputs": [],
   "source": []
  }
 ],
 "metadata": {
  "kernelspec": {
   "display_name": "Python 3",
   "language": "python",
   "name": "python3"
  },
  "language_info": {
   "codemirror_mode": {
    "name": "ipython",
    "version": 3
   },
   "file_extension": ".py",
   "mimetype": "text/x-python",
   "name": "python",
   "nbconvert_exporter": "python",
   "pygments_lexer": "ipython3",
   "version": "3.6.5"
  }
 },
 "nbformat": 4,
 "nbformat_minor": 2
}
